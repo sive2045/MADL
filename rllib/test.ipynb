{
 "cells": [
  {
   "cell_type": "code",
   "execution_count": 1,
   "metadata": {},
   "outputs": [
    {
     "name": "stdout",
     "output_type": "stream",
     "text": [
      "['player_0', 'player_1']\n",
      "{'player_0': 0, 'player_1': 1}\n"
     ]
    }
   ],
   "source": [
    "possible_agents = [\"player_\" + str(r) for r in range(2)]\n",
    "agent_name_mapping = dict(\n",
    "    zip(possible_agents, list(range(len(possible_agents))))\n",
    ")\n",
    "\n",
    "print(possible_agents)\n",
    "print(agent_name_mapping)"
   ]
  },
  {
   "cell_type": "code",
   "execution_count": 2,
   "metadata": {},
   "outputs": [],
   "source": [
    "import numpy as np"
   ]
  },
  {
   "cell_type": "code",
   "execution_count": 5,
   "metadata": {},
   "outputs": [
    {
     "data": {
      "text/plain": [
       "0"
      ]
     },
     "execution_count": 5,
     "metadata": {},
     "output_type": "execute_result"
    }
   ],
   "source": [
    "actions = {\n",
    "    \"prisoner\":0,\n",
    "    \"guard\":0\n",
    "}\n",
    "\n",
    "actions[\"prisoner\"]"
   ]
  },
  {
   "cell_type": "code",
   "execution_count": 12,
   "metadata": {},
   "outputs": [
    {
     "name": "stdout",
     "output_type": "stream",
     "text": [
      "[[2 0]\n",
      " [3 2]\n",
      " [1 1]\n",
      " [0 2]\n",
      " [2 0]\n",
      " [0 3]\n",
      " [2 2]\n",
      " [1 0]\n",
      " [1 3]\n",
      " [3 1]]\n"
     ]
    }
   ],
   "source": [
    "print(np.random.randint(0,4, (10,2)))\n",
    "    "
   ]
  },
  {
   "cell_type": "code",
   "execution_count": 15,
   "metadata": {},
   "outputs": [
    {
     "data": {
      "text/plain": [
       "0"
      ]
     },
     "execution_count": 15,
     "metadata": {},
     "output_type": "execute_result"
    }
   ],
   "source": [
    "a = np.random.randint(0,4, (10,2))\n",
    "a[1][1]"
   ]
  },
  {
   "cell_type": "code",
   "execution_count": 16,
   "metadata": {},
   "outputs": [
    {
     "name": "stdout",
     "output_type": "stream",
     "text": [
      "[[1 1]\n",
      " [0 0]\n",
      " [0 2]\n",
      " [3 2]\n",
      " [2 2]\n",
      " [2 1]\n",
      " [1 2]\n",
      " [1 3]\n",
      " [2 1]\n",
      " [3 3]]\n"
     ]
    }
   ],
   "source": [
    "print(a)"
   ]
  },
  {
   "cell_type": "code",
   "execution_count": 17,
   "metadata": {},
   "outputs": [
    {
     "data": {
      "text/plain": [
       "2"
      ]
     },
     "execution_count": 17,
     "metadata": {},
     "output_type": "execute_result"
    }
   ],
   "source": [
    "a[3][1]"
   ]
  },
  {
   "cell_type": "code",
   "execution_count": null,
   "metadata": {},
   "outputs": [],
   "source": []
  }
 ],
 "metadata": {
  "kernelspec": {
   "display_name": "Python 3.8.16 ('MADL')",
   "language": "python",
   "name": "python3"
  },
  "language_info": {
   "codemirror_mode": {
    "name": "ipython",
    "version": 3
   },
   "file_extension": ".py",
   "mimetype": "text/x-python",
   "name": "python",
   "nbconvert_exporter": "python",
   "pygments_lexer": "ipython3",
   "version": "3.8.16"
  },
  "orig_nbformat": 4,
  "vscode": {
   "interpreter": {
    "hash": "e962fd0c4c0760769e63252c4a395697b377d590c687511dc0420415a53f8c19"
   }
  }
 },
 "nbformat": 4,
 "nbformat_minor": 2
}
